{
 "cells": [
  {
   "cell_type": "code",
   "execution_count": 1,
   "metadata": {},
   "outputs": [],
   "source": [
    "import os\n",
    "os.chdir('..')"
   ]
  },
  {
   "cell_type": "code",
   "execution_count": 2,
   "metadata": {},
   "outputs": [
    {
     "name": "stdout",
     "output_type": "stream",
     "text": [
      "C:\\Users\\SAMSUNG\\Documents\\dacon\\Dacon_dota\n"
     ]
    }
   ],
   "source": [
    "path = os.getcwd()\n",
    "print(path)"
   ]
  },
  {
   "cell_type": "code",
   "execution_count": 3,
   "metadata": {},
   "outputs": [],
   "source": [
    "import numpy as np\n",
    "import pandas as pd\n",
    "\n",
    "import os #\n",
    "import cv2 #이미지 안에서 원하는 이미지 인식\n",
    "from glob import glob #동일한 형식을 갖춘 데이터를 불러오는 패키지 \n",
    "import json\n",
    "\n",
    "import seaborn as sns\n",
    "import matplotlib.pyplot as plt\n",
    "%matplotlib inline\n",
    "\n",
    "import warnings\n",
    "warnings.filterwarnings(action='ignore')"
   ]
  },
  {
   "cell_type": "code",
   "execution_count": 4,
   "metadata": {},
   "outputs": [
    {
     "data": {
      "text/plain": [
       "(800, 800, 100)"
      ]
     },
     "execution_count": 4,
     "metadata": {},
     "output_type": "execute_result"
    }
   ],
   "source": [
    "train_images = sorted(glob('data/rawdata/train/images/*'))\n",
    "train_jsons = sorted(glob('data/rawdata/train/json/*'))\n",
    "test_images = sorted(glob('data/rawdata/test/images/*'))\n",
    "len(train_images), len(train_jsons), len(test_images)"
   ]
  },
  {
   "cell_type": "code",
   "execution_count": 5,
   "metadata": {},
   "outputs": [],
   "source": [
    "train_meta = []\n",
    "for j in train_jsons:\n",
    "    json_obj = json.load(open(j))\n",
    "    for f in json_obj['features']:\n",
    "        geo_coord = f['geometry']['coordinates']\n",
    "        geo_type = f['geometry']['type']\n",
    "        object_imcoords = f['properties']['object_imcoords']\n",
    "        object_angle = f['properties']['object_angle']\n",
    "        building_imcoords = f['properties']['building_imcoords']\n",
    "        road_imcoords = f['properties']['road_imcoords']\n",
    "        image_id = f['properties']['image_id']\n",
    "        ingest_time = f['properties']['ingest_time']\n",
    "        type_id = f['properties']['type_id']\n",
    "        type_name = f['properties']['type_name']\n",
    "        train_meta.append([image_id, type_id, type_name, geo_coord, geo_type, object_angle,\n",
    "                           object_imcoords, building_imcoords, road_imcoords, ingest_time])"
   ]
  },
  {
   "cell_type": "code",
   "execution_count": 6,
   "metadata": {},
   "outputs": [],
   "source": [
    "train = pd.DataFrame(train_meta,columns= ['image_id','type_id','type_name','geo_coord','geo_type','object_angle',\n",
    "                                   'object_imcoords','building_imcoords','road_imcoords','ingest_time'])"
   ]
  },
  {
   "cell_type": "code",
   "execution_count": 7,
   "metadata": {},
   "outputs": [
    {
     "data": {
      "text/html": [
       "<div>\n",
       "<style scoped>\n",
       "    .dataframe tbody tr th:only-of-type {\n",
       "        vertical-align: middle;\n",
       "    }\n",
       "\n",
       "    .dataframe tbody tr th {\n",
       "        vertical-align: top;\n",
       "    }\n",
       "\n",
       "    .dataframe thead th {\n",
       "        text-align: right;\n",
       "    }\n",
       "</style>\n",
       "<table border=\"1\" class=\"dataframe\">\n",
       "  <thead>\n",
       "    <tr style=\"text-align: right;\">\n",
       "      <th></th>\n",
       "      <th>image_id</th>\n",
       "      <th>type_id</th>\n",
       "      <th>type_name</th>\n",
       "      <th>geo_coord</th>\n",
       "      <th>geo_type</th>\n",
       "      <th>object_angle</th>\n",
       "      <th>object_imcoords</th>\n",
       "      <th>building_imcoords</th>\n",
       "      <th>road_imcoords</th>\n",
       "      <th>ingest_time</th>\n",
       "    </tr>\n",
       "  </thead>\n",
       "  <tbody>\n",
       "    <tr>\n",
       "      <th>0</th>\n",
       "      <td>OBJ00013_PS3_K3_NIA0078.png</td>\n",
       "      <td>3</td>\n",
       "      <td>civilian aircraft</td>\n",
       "      <td>[[[1, 1, 0.0], [1, 1, 0.0], [1, 1, 0.0], [1, 1...</td>\n",
       "      <td>Polygon</td>\n",
       "      <td>6.283185</td>\n",
       "      <td>469.1820926230315,473.2955533775398,561.654399...</td>\n",
       "      <td>EMPTY</td>\n",
       "      <td>EMPTY</td>\n",
       "      <td>2020-09-18T06:24:22.933603Z</td>\n",
       "    </tr>\n",
       "    <tr>\n",
       "      <th>1</th>\n",
       "      <td>OBJ00013_PS3_K3_NIA0078.png</td>\n",
       "      <td>5</td>\n",
       "      <td>small car</td>\n",
       "      <td>[[[1, 1, 0.0], [1, 1, 0.0], [1, 1, 0.0], [1, 1...</td>\n",
       "      <td>Polygon</td>\n",
       "      <td>3.547254</td>\n",
       "      <td>993.6889260747658,339.4410959499382,988.810925...</td>\n",
       "      <td>EMPTY</td>\n",
       "      <td>EMPTY</td>\n",
       "      <td>2020-09-18T06:24:22.933603Z</td>\n",
       "    </tr>\n",
       "    <tr>\n",
       "      <th>2</th>\n",
       "      <td>OBJ00013_PS3_K3_NIA0078.png</td>\n",
       "      <td>5</td>\n",
       "      <td>small car</td>\n",
       "      <td>[[[1, 1, 0.0], [1, 1, 0.0], [1, 1, 0.0], [1, 1...</td>\n",
       "      <td>Polygon</td>\n",
       "      <td>3.647914</td>\n",
       "      <td>988.7026551987746,331.54721860229455,984.09007...</td>\n",
       "      <td>EMPTY</td>\n",
       "      <td>EMPTY</td>\n",
       "      <td>2020-09-18T06:24:22.933603Z</td>\n",
       "    </tr>\n",
       "    <tr>\n",
       "      <th>3</th>\n",
       "      <td>OBJ00013_PS3_K3_NIA0078.png</td>\n",
       "      <td>5</td>\n",
       "      <td>small car</td>\n",
       "      <td>[[[1, 1, 0.0], [1, 1, 0.0], [1, 1, 0.0], [1, 1...</td>\n",
       "      <td>Polygon</td>\n",
       "      <td>0.607917</td>\n",
       "      <td>935.9948592758786,141.9939151216178,940.820433...</td>\n",
       "      <td>EMPTY</td>\n",
       "      <td>EMPTY</td>\n",
       "      <td>2020-09-18T06:24:22.933603Z</td>\n",
       "    </tr>\n",
       "    <tr>\n",
       "      <th>4</th>\n",
       "      <td>OBJ00013_PS3_K3_NIA0078.png</td>\n",
       "      <td>5</td>\n",
       "      <td>small car</td>\n",
       "      <td>[[[1, 1, 0.0], [1, 1, 0.0], [1, 1, 0.0], [1, 1...</td>\n",
       "      <td>Polygon</td>\n",
       "      <td>3.717766</td>\n",
       "      <td>874.5034054854823,43.55368531817367,869.677894...</td>\n",
       "      <td>EMPTY</td>\n",
       "      <td>EMPTY</td>\n",
       "      <td>2020-09-18T06:24:22.933603Z</td>\n",
       "    </tr>\n",
       "  </tbody>\n",
       "</table>\n",
       "</div>"
      ],
      "text/plain": [
       "                      image_id type_id          type_name  \\\n",
       "0  OBJ00013_PS3_K3_NIA0078.png       3  civilian aircraft   \n",
       "1  OBJ00013_PS3_K3_NIA0078.png       5          small car   \n",
       "2  OBJ00013_PS3_K3_NIA0078.png       5          small car   \n",
       "3  OBJ00013_PS3_K3_NIA0078.png       5          small car   \n",
       "4  OBJ00013_PS3_K3_NIA0078.png       5          small car   \n",
       "\n",
       "                                           geo_coord geo_type  object_angle  \\\n",
       "0  [[[1, 1, 0.0], [1, 1, 0.0], [1, 1, 0.0], [1, 1...  Polygon      6.283185   \n",
       "1  [[[1, 1, 0.0], [1, 1, 0.0], [1, 1, 0.0], [1, 1...  Polygon      3.547254   \n",
       "2  [[[1, 1, 0.0], [1, 1, 0.0], [1, 1, 0.0], [1, 1...  Polygon      3.647914   \n",
       "3  [[[1, 1, 0.0], [1, 1, 0.0], [1, 1, 0.0], [1, 1...  Polygon      0.607917   \n",
       "4  [[[1, 1, 0.0], [1, 1, 0.0], [1, 1, 0.0], [1, 1...  Polygon      3.717766   \n",
       "\n",
       "                                     object_imcoords building_imcoords  \\\n",
       "0  469.1820926230315,473.2955533775398,561.654399...             EMPTY   \n",
       "1  993.6889260747658,339.4410959499382,988.810925...             EMPTY   \n",
       "2  988.7026551987746,331.54721860229455,984.09007...             EMPTY   \n",
       "3  935.9948592758786,141.9939151216178,940.820433...             EMPTY   \n",
       "4  874.5034054854823,43.55368531817367,869.677894...             EMPTY   \n",
       "\n",
       "  road_imcoords                  ingest_time  \n",
       "0         EMPTY  2020-09-18T06:24:22.933603Z  \n",
       "1         EMPTY  2020-09-18T06:24:22.933603Z  \n",
       "2         EMPTY  2020-09-18T06:24:22.933603Z  \n",
       "3         EMPTY  2020-09-18T06:24:22.933603Z  \n",
       "4         EMPTY  2020-09-18T06:24:22.933603Z  "
      ]
     },
     "execution_count": 7,
     "metadata": {},
     "output_type": "execute_result"
    }
   ],
   "source": [
    "train.head()"
   ]
  },
  {
   "cell_type": "code",
   "execution_count": 8,
   "metadata": {},
   "outputs": [],
   "source": [
    "train['image_id'] = train['image_id'].apply(lambda x: x.split('.')[0])"
   ]
  },
  {
   "cell_type": "code",
   "execution_count": 9,
   "metadata": {},
   "outputs": [
    {
     "data": {
      "text/plain": [
       "array(['EMPTY'], dtype=object)"
      ]
     },
     "execution_count": 9,
     "metadata": {},
     "output_type": "execute_result"
    }
   ],
   "source": [
    "train.building_imcoords.unique()"
   ]
  },
  {
   "cell_type": "code",
   "execution_count": 10,
   "metadata": {},
   "outputs": [
    {
     "data": {
      "text/plain": [
       "array(['EMPTY'], dtype=object)"
      ]
     },
     "execution_count": 10,
     "metadata": {},
     "output_type": "execute_result"
    }
   ],
   "source": [
    "train.road_imcoords.unique()"
   ]
  },
  {
   "cell_type": "code",
   "execution_count": 11,
   "metadata": {},
   "outputs": [
    {
     "data": {
      "text/plain": [
       "array(['[[[1, 1, 0.0], [1, 1, 0.0], [1, 1, 0.0], [1, 1, 0.0]]]'],\n",
       "      dtype=object)"
      ]
     },
     "execution_count": 11,
     "metadata": {},
     "output_type": "execute_result"
    }
   ],
   "source": [
    "train['geo_coord'].apply(lambda x: str(x)).unique()"
   ]
  },
  {
   "cell_type": "code",
   "execution_count": 12,
   "metadata": {},
   "outputs": [
    {
     "data": {
      "text/plain": [
       "array(['Polygon'], dtype=object)"
      ]
     },
     "execution_count": 12,
     "metadata": {},
     "output_type": "execute_result"
    }
   ],
   "source": [
    "train.geo_type.unique()"
   ]
  },
  {
   "cell_type": "code",
   "execution_count": 13,
   "metadata": {},
   "outputs": [],
   "source": [
    "train = train.drop(['building_imcoords','road_imcoords','geo_coord','geo_type','ingest_time'],axis=1)"
   ]
  },
  {
   "cell_type": "code",
   "execution_count": 14,
   "metadata": {},
   "outputs": [
    {
     "data": {
      "text/html": [
       "<div>\n",
       "<style scoped>\n",
       "    .dataframe tbody tr th:only-of-type {\n",
       "        vertical-align: middle;\n",
       "    }\n",
       "\n",
       "    .dataframe tbody tr th {\n",
       "        vertical-align: top;\n",
       "    }\n",
       "\n",
       "    .dataframe thead th {\n",
       "        text-align: right;\n",
       "    }\n",
       "</style>\n",
       "<table border=\"1\" class=\"dataframe\">\n",
       "  <thead>\n",
       "    <tr style=\"text-align: right;\">\n",
       "      <th></th>\n",
       "      <th>image_id</th>\n",
       "      <th>type_id</th>\n",
       "      <th>type_name</th>\n",
       "      <th>object_angle</th>\n",
       "      <th>object_imcoords</th>\n",
       "    </tr>\n",
       "  </thead>\n",
       "  <tbody>\n",
       "    <tr>\n",
       "      <th>0</th>\n",
       "      <td>OBJ00013_PS3_K3_NIA0078</td>\n",
       "      <td>3</td>\n",
       "      <td>civilian aircraft</td>\n",
       "      <td>6.283185</td>\n",
       "      <td>469.1820926230315,473.2955533775398,561.654399...</td>\n",
       "    </tr>\n",
       "    <tr>\n",
       "      <th>1</th>\n",
       "      <td>OBJ00013_PS3_K3_NIA0078</td>\n",
       "      <td>5</td>\n",
       "      <td>small car</td>\n",
       "      <td>3.547254</td>\n",
       "      <td>993.6889260747658,339.4410959499382,988.810925...</td>\n",
       "    </tr>\n",
       "    <tr>\n",
       "      <th>2</th>\n",
       "      <td>OBJ00013_PS3_K3_NIA0078</td>\n",
       "      <td>5</td>\n",
       "      <td>small car</td>\n",
       "      <td>3.647914</td>\n",
       "      <td>988.7026551987746,331.54721860229455,984.09007...</td>\n",
       "    </tr>\n",
       "    <tr>\n",
       "      <th>3</th>\n",
       "      <td>OBJ00013_PS3_K3_NIA0078</td>\n",
       "      <td>5</td>\n",
       "      <td>small car</td>\n",
       "      <td>0.607917</td>\n",
       "      <td>935.9948592758786,141.9939151216178,940.820433...</td>\n",
       "    </tr>\n",
       "    <tr>\n",
       "      <th>4</th>\n",
       "      <td>OBJ00013_PS3_K3_NIA0078</td>\n",
       "      <td>5</td>\n",
       "      <td>small car</td>\n",
       "      <td>3.717766</td>\n",
       "      <td>874.5034054854823,43.55368531817367,869.677894...</td>\n",
       "    </tr>\n",
       "  </tbody>\n",
       "</table>\n",
       "</div>"
      ],
      "text/plain": [
       "                  image_id type_id          type_name  object_angle  \\\n",
       "0  OBJ00013_PS3_K3_NIA0078       3  civilian aircraft      6.283185   \n",
       "1  OBJ00013_PS3_K3_NIA0078       5          small car      3.547254   \n",
       "2  OBJ00013_PS3_K3_NIA0078       5          small car      3.647914   \n",
       "3  OBJ00013_PS3_K3_NIA0078       5          small car      0.607917   \n",
       "4  OBJ00013_PS3_K3_NIA0078       5          small car      3.717766   \n",
       "\n",
       "                                     object_imcoords  \n",
       "0  469.1820926230315,473.2955533775398,561.654399...  \n",
       "1  993.6889260747658,339.4410959499382,988.810925...  \n",
       "2  988.7026551987746,331.54721860229455,984.09007...  \n",
       "3  935.9948592758786,141.9939151216178,940.820433...  \n",
       "4  874.5034054854823,43.55368531817367,869.677894...  "
      ]
     },
     "execution_count": 14,
     "metadata": {},
     "output_type": "execute_result"
    }
   ],
   "source": [
    "train.head()"
   ]
  },
  {
   "cell_type": "code",
   "execution_count": 15,
   "metadata": {},
   "outputs": [],
   "source": [
    "path = path.replace('\\\\','/')\n",
    "train.to_csv(path+'/data/data.csv')"
   ]
  },
  {
   "cell_type": "code",
   "execution_count": 16,
   "metadata": {},
   "outputs": [
    {
     "name": "stdout",
     "output_type": "stream",
     "text": [
      "카테고리 종류 :  ['civilian aircraft' 'small car' 'truck' 'large ship' 'small ship' 'bus'\n",
      " 'oil tank' 'crane' 'roundabout' 'train' 'bridge' 'military aircraft'\n",
      " 'etc' 'helipad' 'athletic field' 'dam']\n",
      "카테고리 수 :  16\n"
     ]
    }
   ],
   "source": [
    "print('카테고리 종류 : ',train['type_name'].unique())\n",
    "print('카테고리 수 : ', train['type_name'].nunique())"
   ]
  },
  {
   "cell_type": "code",
   "execution_count": 17,
   "metadata": {},
   "outputs": [],
   "source": [
    "df = pd.crosstab(train['image_id'], train['type_name'])\n",
    "df = df.join(train.image_id.value_counts()).rename(columns={'image_id':'obj_count'})\n",
    "df = df.join(train[['image_id','type_name']].drop_duplicates()['image_id'].value_counts()).rename(columns={'image_id':'obj_unique'})"
   ]
  },
  {
   "cell_type": "code",
   "execution_count": 18,
   "metadata": {},
   "outputs": [
    {
     "data": {
      "text/html": [
       "<div>\n",
       "<style scoped>\n",
       "    .dataframe tbody tr th:only-of-type {\n",
       "        vertical-align: middle;\n",
       "    }\n",
       "\n",
       "    .dataframe tbody tr th {\n",
       "        vertical-align: top;\n",
       "    }\n",
       "\n",
       "    .dataframe thead th {\n",
       "        text-align: right;\n",
       "    }\n",
       "</style>\n",
       "<table border=\"1\" class=\"dataframe\">\n",
       "  <thead>\n",
       "    <tr style=\"text-align: right;\">\n",
       "      <th></th>\n",
       "      <th>athletic field</th>\n",
       "      <th>bridge</th>\n",
       "      <th>bus</th>\n",
       "      <th>civilian aircraft</th>\n",
       "      <th>crane</th>\n",
       "      <th>dam</th>\n",
       "      <th>etc</th>\n",
       "      <th>helipad</th>\n",
       "      <th>large ship</th>\n",
       "      <th>military aircraft</th>\n",
       "      <th>oil tank</th>\n",
       "      <th>roundabout</th>\n",
       "      <th>small car</th>\n",
       "      <th>small ship</th>\n",
       "      <th>train</th>\n",
       "      <th>truck</th>\n",
       "      <th>obj_count</th>\n",
       "      <th>obj_unique</th>\n",
       "    </tr>\n",
       "    <tr>\n",
       "      <th>image_id</th>\n",
       "      <th></th>\n",
       "      <th></th>\n",
       "      <th></th>\n",
       "      <th></th>\n",
       "      <th></th>\n",
       "      <th></th>\n",
       "      <th></th>\n",
       "      <th></th>\n",
       "      <th></th>\n",
       "      <th></th>\n",
       "      <th></th>\n",
       "      <th></th>\n",
       "      <th></th>\n",
       "      <th></th>\n",
       "      <th></th>\n",
       "      <th></th>\n",
       "      <th></th>\n",
       "      <th></th>\n",
       "    </tr>\n",
       "  </thead>\n",
       "  <tbody>\n",
       "    <tr>\n",
       "      <th>OBJ00013_PS3_K3_NIA0078</th>\n",
       "      <td>0</td>\n",
       "      <td>0</td>\n",
       "      <td>0</td>\n",
       "      <td>1</td>\n",
       "      <td>0</td>\n",
       "      <td>0</td>\n",
       "      <td>0</td>\n",
       "      <td>0</td>\n",
       "      <td>0</td>\n",
       "      <td>0</td>\n",
       "      <td>0</td>\n",
       "      <td>0</td>\n",
       "      <td>6</td>\n",
       "      <td>0</td>\n",
       "      <td>0</td>\n",
       "      <td>7</td>\n",
       "      <td>14</td>\n",
       "      <td>3</td>\n",
       "    </tr>\n",
       "    <tr>\n",
       "      <th>OBJ00022_PS3_K3_NIA0078</th>\n",
       "      <td>0</td>\n",
       "      <td>0</td>\n",
       "      <td>1</td>\n",
       "      <td>0</td>\n",
       "      <td>0</td>\n",
       "      <td>0</td>\n",
       "      <td>0</td>\n",
       "      <td>0</td>\n",
       "      <td>1</td>\n",
       "      <td>0</td>\n",
       "      <td>0</td>\n",
       "      <td>0</td>\n",
       "      <td>0</td>\n",
       "      <td>1</td>\n",
       "      <td>0</td>\n",
       "      <td>0</td>\n",
       "      <td>3</td>\n",
       "      <td>3</td>\n",
       "    </tr>\n",
       "    <tr>\n",
       "      <th>OBJ00028_PS3_K3_NIA0078</th>\n",
       "      <td>0</td>\n",
       "      <td>0</td>\n",
       "      <td>0</td>\n",
       "      <td>0</td>\n",
       "      <td>4</td>\n",
       "      <td>0</td>\n",
       "      <td>0</td>\n",
       "      <td>0</td>\n",
       "      <td>2</td>\n",
       "      <td>0</td>\n",
       "      <td>4</td>\n",
       "      <td>0</td>\n",
       "      <td>180</td>\n",
       "      <td>2</td>\n",
       "      <td>0</td>\n",
       "      <td>65</td>\n",
       "      <td>257</td>\n",
       "      <td>6</td>\n",
       "    </tr>\n",
       "    <tr>\n",
       "      <th>OBJ00113_PS3_K3_NIA0080</th>\n",
       "      <td>0</td>\n",
       "      <td>0</td>\n",
       "      <td>9</td>\n",
       "      <td>0</td>\n",
       "      <td>0</td>\n",
       "      <td>0</td>\n",
       "      <td>0</td>\n",
       "      <td>0</td>\n",
       "      <td>0</td>\n",
       "      <td>0</td>\n",
       "      <td>0</td>\n",
       "      <td>0</td>\n",
       "      <td>164</td>\n",
       "      <td>0</td>\n",
       "      <td>0</td>\n",
       "      <td>43</td>\n",
       "      <td>216</td>\n",
       "      <td>3</td>\n",
       "    </tr>\n",
       "    <tr>\n",
       "      <th>OBJ00261_PS3_K3_NIA0081</th>\n",
       "      <td>0</td>\n",
       "      <td>0</td>\n",
       "      <td>0</td>\n",
       "      <td>0</td>\n",
       "      <td>0</td>\n",
       "      <td>0</td>\n",
       "      <td>0</td>\n",
       "      <td>0</td>\n",
       "      <td>0</td>\n",
       "      <td>0</td>\n",
       "      <td>0</td>\n",
       "      <td>0</td>\n",
       "      <td>3</td>\n",
       "      <td>1</td>\n",
       "      <td>0</td>\n",
       "      <td>1</td>\n",
       "      <td>5</td>\n",
       "      <td>3</td>\n",
       "    </tr>\n",
       "  </tbody>\n",
       "</table>\n",
       "</div>"
      ],
      "text/plain": [
       "                         athletic field  bridge  bus  civilian aircraft  \\\n",
       "image_id                                                                  \n",
       "OBJ00013_PS3_K3_NIA0078               0       0    0                  1   \n",
       "OBJ00022_PS3_K3_NIA0078               0       0    1                  0   \n",
       "OBJ00028_PS3_K3_NIA0078               0       0    0                  0   \n",
       "OBJ00113_PS3_K3_NIA0080               0       0    9                  0   \n",
       "OBJ00261_PS3_K3_NIA0081               0       0    0                  0   \n",
       "\n",
       "                         crane  dam  etc  helipad  large ship  \\\n",
       "image_id                                                        \n",
       "OBJ00013_PS3_K3_NIA0078      0    0    0        0           0   \n",
       "OBJ00022_PS3_K3_NIA0078      0    0    0        0           1   \n",
       "OBJ00028_PS3_K3_NIA0078      4    0    0        0           2   \n",
       "OBJ00113_PS3_K3_NIA0080      0    0    0        0           0   \n",
       "OBJ00261_PS3_K3_NIA0081      0    0    0        0           0   \n",
       "\n",
       "                         military aircraft  oil tank  roundabout  small car  \\\n",
       "image_id                                                                      \n",
       "OBJ00013_PS3_K3_NIA0078                  0         0           0          6   \n",
       "OBJ00022_PS3_K3_NIA0078                  0         0           0          0   \n",
       "OBJ00028_PS3_K3_NIA0078                  0         4           0        180   \n",
       "OBJ00113_PS3_K3_NIA0080                  0         0           0        164   \n",
       "OBJ00261_PS3_K3_NIA0081                  0         0           0          3   \n",
       "\n",
       "                         small ship  train  truck  obj_count  obj_unique  \n",
       "image_id                                                                  \n",
       "OBJ00013_PS3_K3_NIA0078           0      0      7         14           3  \n",
       "OBJ00022_PS3_K3_NIA0078           1      0      0          3           3  \n",
       "OBJ00028_PS3_K3_NIA0078           2      0     65        257           6  \n",
       "OBJ00113_PS3_K3_NIA0080           0      0     43        216           3  \n",
       "OBJ00261_PS3_K3_NIA0081           1      0      1          5           3  "
      ]
     },
     "execution_count": 18,
     "metadata": {},
     "output_type": "execute_result"
    }
   ],
   "source": [
    "df.head()"
   ]
  },
  {
   "cell_type": "code",
   "execution_count": 19,
   "metadata": {},
   "outputs": [
    {
     "data": {
      "text/plain": [
       "small car            86305\n",
       "truck                19011\n",
       "small ship           13107\n",
       "train                 5123\n",
       "bus                   3840\n",
       "military aircraft      937\n",
       "oil tank               868\n",
       "etc                    853\n",
       "civilian aircraft      424\n",
       "large ship             306\n",
       "crane                  260\n",
       "helipad                135\n",
       "roundabout             131\n",
       "bridge                  93\n",
       "athletic field          40\n",
       "dam                      3\n",
       "Name: type_name, dtype: int64"
      ]
     },
     "execution_count": 19,
     "metadata": {},
     "output_type": "execute_result"
    }
   ],
   "source": [
    "train.type_name.value_counts()"
   ]
  },
  {
   "cell_type": "markdown",
   "metadata": {},
   "source": [
    "- 데이터 불균형 문제를 어떻게 처리할 것인가? dam 같은 경우에는 3개 밖에 없어서 해당 test set이 들어오면 잘 처리하지 못할 것이다"
   ]
  },
  {
   "cell_type": "code",
   "execution_count": 20,
   "metadata": {},
   "outputs": [
    {
     "data": {
      "text/plain": [
       "<matplotlib.axes._subplots.AxesSubplot at 0x13ad7477190>"
      ]
     },
     "execution_count": 20,
     "metadata": {},
     "output_type": "execute_result"
    },
    {
     "data": {
      "image/png": "[encoded data removed]",
      "text/plain": [
       "<Figure size 432x288 with 1 Axes>"
      ]
     },
     "metadata": {
      "needs_background": "light"
     },
     "output_type": "display_data"
    }
   ],
   "source": [
    "sns.distplot(df['obj_count'])"
   ]
  },
  {
   "cell_type": "code",
   "execution_count": 21,
   "metadata": {},
   "outputs": [
    {
     "data": {
      "text/plain": [
       "1637"
      ]
     },
     "execution_count": 21,
     "metadata": {},
     "output_type": "execute_result"
    }
   ],
   "source": [
    "df['obj_count'].max()"
   ]
  },
  {
   "cell_type": "code",
   "execution_count": 22,
   "metadata": {},
   "outputs": [
    {
     "data": {
      "text/html": [
       "<div>\n",
       "<style scoped>\n",
       "    .dataframe tbody tr th:only-of-type {\n",
       "        vertical-align: middle;\n",
       "    }\n",
       "\n",
       "    .dataframe tbody tr th {\n",
       "        vertical-align: top;\n",
       "    }\n",
       "\n",
       "    .dataframe thead th {\n",
       "        text-align: right;\n",
       "    }\n",
       "</style>\n",
       "<table border=\"1\" class=\"dataframe\">\n",
       "  <thead>\n",
       "    <tr style=\"text-align: right;\">\n",
       "      <th></th>\n",
       "      <th>athletic field</th>\n",
       "      <th>bridge</th>\n",
       "      <th>bus</th>\n",
       "      <th>civilian aircraft</th>\n",
       "      <th>crane</th>\n",
       "      <th>dam</th>\n",
       "      <th>etc</th>\n",
       "      <th>helipad</th>\n",
       "      <th>large ship</th>\n",
       "      <th>military aircraft</th>\n",
       "      <th>oil tank</th>\n",
       "      <th>roundabout</th>\n",
       "      <th>small car</th>\n",
       "      <th>small ship</th>\n",
       "      <th>train</th>\n",
       "      <th>truck</th>\n",
       "      <th>obj_count</th>\n",
       "      <th>obj_unique</th>\n",
       "    </tr>\n",
       "    <tr>\n",
       "      <th>image_id</th>\n",
       "      <th></th>\n",
       "      <th></th>\n",
       "      <th></th>\n",
       "      <th></th>\n",
       "      <th></th>\n",
       "      <th></th>\n",
       "      <th></th>\n",
       "      <th></th>\n",
       "      <th></th>\n",
       "      <th></th>\n",
       "      <th></th>\n",
       "      <th></th>\n",
       "      <th></th>\n",
       "      <th></th>\n",
       "      <th></th>\n",
       "      <th></th>\n",
       "      <th></th>\n",
       "      <th></th>\n",
       "    </tr>\n",
       "  </thead>\n",
       "  <tbody>\n",
       "    <tr>\n",
       "      <th>OBJ03758_PS3_K3A_NIA0157</th>\n",
       "      <td>0</td>\n",
       "      <td>0</td>\n",
       "      <td>1</td>\n",
       "      <td>0</td>\n",
       "      <td>0</td>\n",
       "      <td>0</td>\n",
       "      <td>9</td>\n",
       "      <td>0</td>\n",
       "      <td>0</td>\n",
       "      <td>0</td>\n",
       "      <td>0</td>\n",
       "      <td>0</td>\n",
       "      <td>1530</td>\n",
       "      <td>0</td>\n",
       "      <td>0</td>\n",
       "      <td>97</td>\n",
       "      <td>1637</td>\n",
       "      <td>4</td>\n",
       "    </tr>\n",
       "    <tr>\n",
       "      <th>OBJ03789_PS3_K3A_NIA0158</th>\n",
       "      <td>0</td>\n",
       "      <td>0</td>\n",
       "      <td>1</td>\n",
       "      <td>0</td>\n",
       "      <td>0</td>\n",
       "      <td>0</td>\n",
       "      <td>0</td>\n",
       "      <td>0</td>\n",
       "      <td>0</td>\n",
       "      <td>0</td>\n",
       "      <td>0</td>\n",
       "      <td>0</td>\n",
       "      <td>493</td>\n",
       "      <td>658</td>\n",
       "      <td>0</td>\n",
       "      <td>8</td>\n",
       "      <td>1160</td>\n",
       "      <td>4</td>\n",
       "    </tr>\n",
       "    <tr>\n",
       "      <th>OBJ04053_PS3_K3A_NIA0170</th>\n",
       "      <td>0</td>\n",
       "      <td>0</td>\n",
       "      <td>13</td>\n",
       "      <td>0</td>\n",
       "      <td>0</td>\n",
       "      <td>0</td>\n",
       "      <td>0</td>\n",
       "      <td>0</td>\n",
       "      <td>0</td>\n",
       "      <td>0</td>\n",
       "      <td>0</td>\n",
       "      <td>0</td>\n",
       "      <td>1397</td>\n",
       "      <td>0</td>\n",
       "      <td>0</td>\n",
       "      <td>1</td>\n",
       "      <td>1411</td>\n",
       "      <td>3</td>\n",
       "    </tr>\n",
       "    <tr>\n",
       "      <th>OBJ04096_PS3_K3A_NIA0174</th>\n",
       "      <td>0</td>\n",
       "      <td>0</td>\n",
       "      <td>1</td>\n",
       "      <td>2</td>\n",
       "      <td>0</td>\n",
       "      <td>0</td>\n",
       "      <td>8</td>\n",
       "      <td>0</td>\n",
       "      <td>0</td>\n",
       "      <td>0</td>\n",
       "      <td>0</td>\n",
       "      <td>0</td>\n",
       "      <td>1157</td>\n",
       "      <td>0</td>\n",
       "      <td>0</td>\n",
       "      <td>2</td>\n",
       "      <td>1170</td>\n",
       "      <td>5</td>\n",
       "    </tr>\n",
       "    <tr>\n",
       "      <th>OBJ04814_PS3_K3A_NIA0315</th>\n",
       "      <td>0</td>\n",
       "      <td>0</td>\n",
       "      <td>5</td>\n",
       "      <td>0</td>\n",
       "      <td>0</td>\n",
       "      <td>0</td>\n",
       "      <td>3</td>\n",
       "      <td>0</td>\n",
       "      <td>0</td>\n",
       "      <td>0</td>\n",
       "      <td>0</td>\n",
       "      <td>0</td>\n",
       "      <td>591</td>\n",
       "      <td>11</td>\n",
       "      <td>0</td>\n",
       "      <td>488</td>\n",
       "      <td>1098</td>\n",
       "      <td>5</td>\n",
       "    </tr>\n",
       "    <tr>\n",
       "      <th>OBJ05425_PS3_K3A_NIA0349</th>\n",
       "      <td>0</td>\n",
       "      <td>0</td>\n",
       "      <td>0</td>\n",
       "      <td>0</td>\n",
       "      <td>0</td>\n",
       "      <td>0</td>\n",
       "      <td>0</td>\n",
       "      <td>0</td>\n",
       "      <td>0</td>\n",
       "      <td>0</td>\n",
       "      <td>0</td>\n",
       "      <td>2</td>\n",
       "      <td>1098</td>\n",
       "      <td>0</td>\n",
       "      <td>0</td>\n",
       "      <td>9</td>\n",
       "      <td>1109</td>\n",
       "      <td>3</td>\n",
       "    </tr>\n",
       "    <tr>\n",
       "      <th>OBJ05666_PS3_K3A_NIA0360</th>\n",
       "      <td>0</td>\n",
       "      <td>0</td>\n",
       "      <td>2</td>\n",
       "      <td>0</td>\n",
       "      <td>0</td>\n",
       "      <td>0</td>\n",
       "      <td>0</td>\n",
       "      <td>0</td>\n",
       "      <td>0</td>\n",
       "      <td>0</td>\n",
       "      <td>0</td>\n",
       "      <td>0</td>\n",
       "      <td>1092</td>\n",
       "      <td>0</td>\n",
       "      <td>0</td>\n",
       "      <td>0</td>\n",
       "      <td>1094</td>\n",
       "      <td>2</td>\n",
       "    </tr>\n",
       "  </tbody>\n",
       "</table>\n",
       "</div>"
      ],
      "text/plain": [
       "                          athletic field  bridge  bus  civilian aircraft  \\\n",
       "image_id                                                                   \n",
       "OBJ03758_PS3_K3A_NIA0157               0       0    1                  0   \n",
       "OBJ03789_PS3_K3A_NIA0158               0       0    1                  0   \n",
       "OBJ04053_PS3_K3A_NIA0170               0       0   13                  0   \n",
       "OBJ04096_PS3_K3A_NIA0174               0       0    1                  2   \n",
       "OBJ04814_PS3_K3A_NIA0315               0       0    5                  0   \n",
       "OBJ05425_PS3_K3A_NIA0349               0       0    0                  0   \n",
       "OBJ05666_PS3_K3A_NIA0360               0       0    2                  0   \n",
       "\n",
       "                          crane  dam  etc  helipad  large ship  \\\n",
       "image_id                                                         \n",
       "OBJ03758_PS3_K3A_NIA0157      0    0    9        0           0   \n",
       "OBJ03789_PS3_K3A_NIA0158      0    0    0        0           0   \n",
       "OBJ04053_PS3_K3A_NIA0170      0    0    0        0           0   \n",
       "OBJ04096_PS3_K3A_NIA0174      0    0    8        0           0   \n",
       "OBJ04814_PS3_K3A_NIA0315      0    0    3        0           0   \n",
       "OBJ05425_PS3_K3A_NIA0349      0    0    0        0           0   \n",
       "OBJ05666_PS3_K3A_NIA0360      0    0    0        0           0   \n",
       "\n",
       "                          military aircraft  oil tank  roundabout  small car  \\\n",
       "image_id                                                                       \n",
       "OBJ03758_PS3_K3A_NIA0157                  0         0           0       1530   \n",
       "OBJ03789_PS3_K3A_NIA0158                  0         0           0        493   \n",
       "OBJ04053_PS3_K3A_NIA0170                  0         0           0       1397   \n",
       "OBJ04096_PS3_K3A_NIA0174                  0         0           0       1157   \n",
       "OBJ04814_PS3_K3A_NIA0315                  0         0           0        591   \n",
       "OBJ05425_PS3_K3A_NIA0349                  0         0           2       1098   \n",
       "OBJ05666_PS3_K3A_NIA0360                  0         0           0       1092   \n",
       "\n",
       "                          small ship  train  truck  obj_count  obj_unique  \n",
       "image_id                                                                   \n",
       "OBJ03758_PS3_K3A_NIA0157           0      0     97       1637           4  \n",
       "OBJ03789_PS3_K3A_NIA0158         658      0      8       1160           4  \n",
       "OBJ04053_PS3_K3A_NIA0170           0      0      1       1411           3  \n",
       "OBJ04096_PS3_K3A_NIA0174           0      0      2       1170           5  \n",
       "OBJ04814_PS3_K3A_NIA0315          11      0    488       1098           5  \n",
       "OBJ05425_PS3_K3A_NIA0349           0      0      9       1109           3  \n",
       "OBJ05666_PS3_K3A_NIA0360           0      0      0       1094           2  "
      ]
     },
     "execution_count": 22,
     "metadata": {},
     "output_type": "execute_result"
    }
   ],
   "source": [
    "df[df['obj_count']>1000]"
   ]
  },
  {
   "cell_type": "markdown",
   "metadata": {},
   "source": [
    "한 이미지에 나타나는 객체 수가 1000개가 넘는 경우는 7건.. 대부분 자동차나 트럭이다"
   ]
  },
  {
   "cell_type": "code",
   "execution_count": 23,
   "metadata": {},
   "outputs": [
    {
     "data": {
      "text/plain": [
       "8"
      ]
     },
     "execution_count": 23,
     "metadata": {},
     "output_type": "execute_result"
    }
   ],
   "source": [
    "df.obj_unique.max()"
   ]
  },
  {
   "cell_type": "markdown",
   "metadata": {},
   "source": [
    "한 이미지에 나타나는 최대 객체 종류는 8"
   ]
  },
  {
   "cell_type": "code",
   "execution_count": 24,
   "metadata": {},
   "outputs": [
    {
     "data": {
      "text/html": [
       "<div>\n",
       "<style scoped>\n",
       "    .dataframe tbody tr th:only-of-type {\n",
       "        vertical-align: middle;\n",
       "    }\n",
       "\n",
       "    .dataframe tbody tr th {\n",
       "        vertical-align: top;\n",
       "    }\n",
       "\n",
       "    .dataframe thead th {\n",
       "        text-align: right;\n",
       "    }\n",
       "</style>\n",
       "<table border=\"1\" class=\"dataframe\">\n",
       "  <thead>\n",
       "    <tr style=\"text-align: right;\">\n",
       "      <th></th>\n",
       "      <th>image_id</th>\n",
       "      <th>type_id</th>\n",
       "      <th>type_name</th>\n",
       "      <th>object_angle</th>\n",
       "      <th>object_imcoords</th>\n",
       "    </tr>\n",
       "  </thead>\n",
       "  <tbody>\n",
       "    <tr>\n",
       "      <th>0</th>\n",
       "      <td>OBJ00013_PS3_K3_NIA0078</td>\n",
       "      <td>3</td>\n",
       "      <td>civilian aircraft</td>\n",
       "      <td>6.283185</td>\n",
       "      <td>469.1820926230315,473.2955533775398,561.654399...</td>\n",
       "    </tr>\n",
       "  </tbody>\n",
       "</table>\n",
       "</div>"
      ],
      "text/plain": [
       "                  image_id type_id          type_name  object_angle  \\\n",
       "0  OBJ00013_PS3_K3_NIA0078       3  civilian aircraft      6.283185   \n",
       "\n",
       "                                     object_imcoords  \n",
       "0  469.1820926230315,473.2955533775398,561.654399...  "
      ]
     },
     "execution_count": 24,
     "metadata": {},
     "output_type": "execute_result"
    }
   ],
   "source": [
    "train.head(1)"
   ]
  },
  {
   "cell_type": "code",
   "execution_count": 25,
   "metadata": {},
   "outputs": [],
   "source": [
    "for i in range(0,8,2):\n",
    "    train['x'+str(int(i/2+1))] = train.object_imcoords.apply(lambda x: x.split(',')[i])"
   ]
  },
  {
   "cell_type": "code",
   "execution_count": 26,
   "metadata": {},
   "outputs": [],
   "source": [
    "for i in range(1,9,2):\n",
    "    train['y'+str(int((i+1)/2))] = train.object_imcoords.apply(lambda x: x.split(',')[i])"
   ]
  },
  {
   "cell_type": "code",
   "execution_count": 27,
   "metadata": {},
   "outputs": [
    {
     "data": {
      "text/html": [
       "<div>\n",
       "<style scoped>\n",
       "    .dataframe tbody tr th:only-of-type {\n",
       "        vertical-align: middle;\n",
       "    }\n",
       "\n",
       "    .dataframe tbody tr th {\n",
       "        vertical-align: top;\n",
       "    }\n",
       "\n",
       "    .dataframe thead th {\n",
       "        text-align: right;\n",
       "    }\n",
       "</style>\n",
       "<table border=\"1\" class=\"dataframe\">\n",
       "  <thead>\n",
       "    <tr style=\"text-align: right;\">\n",
       "      <th></th>\n",
       "      <th>image_id</th>\n",
       "      <th>type_id</th>\n",
       "      <th>type_name</th>\n",
       "      <th>object_angle</th>\n",
       "      <th>object_imcoords</th>\n",
       "      <th>x1</th>\n",
       "      <th>x2</th>\n",
       "      <th>x3</th>\n",
       "      <th>x4</th>\n",
       "      <th>y1</th>\n",
       "      <th>y2</th>\n",
       "      <th>y3</th>\n",
       "      <th>y4</th>\n",
       "    </tr>\n",
       "  </thead>\n",
       "  <tbody>\n",
       "    <tr>\n",
       "      <th>0</th>\n",
       "      <td>OBJ00013_PS3_K3_NIA0078</td>\n",
       "      <td>3</td>\n",
       "      <td>civilian aircraft</td>\n",
       "      <td>6.283185</td>\n",
       "      <td>469.1820926230315,473.2955533775398,561.654399...</td>\n",
       "      <td>469.1820926230315</td>\n",
       "      <td>561.6543996724264</td>\n",
       "      <td>561.6543996724264</td>\n",
       "      <td>469.1820926230315</td>\n",
       "      <td>473.2955533775398</td>\n",
       "      <td>473.2955533775399</td>\n",
       "      <td>563.5489576573916</td>\n",
       "      <td>563.5489576573916</td>\n",
       "    </tr>\n",
       "    <tr>\n",
       "      <th>1</th>\n",
       "      <td>OBJ00013_PS3_K3_NIA0078</td>\n",
       "      <td>5</td>\n",
       "      <td>small car</td>\n",
       "      <td>3.547254</td>\n",
       "      <td>993.6889260747658,339.4410959499382,988.810925...</td>\n",
       "      <td>993.6889260747658</td>\n",
       "      <td>988.8109258625097</td>\n",
       "      <td>985.2668417005333</td>\n",
       "      <td>990.1448419127894</td>\n",
       "      <td>339.4410959499382</td>\n",
       "      <td>341.53611374679735</td>\n",
       "      <td>333.28413454151706</td>\n",
       "      <td>331.1891167446579</td>\n",
       "    </tr>\n",
       "    <tr>\n",
       "      <th>2</th>\n",
       "      <td>OBJ00013_PS3_K3_NIA0078</td>\n",
       "      <td>5</td>\n",
       "      <td>small car</td>\n",
       "      <td>3.647914</td>\n",
       "      <td>988.7026551987746,331.54721860229455,984.09007...</td>\n",
       "      <td>988.7026551987746</td>\n",
       "      <td>984.0900765284824</td>\n",
       "      <td>980.882807627531</td>\n",
       "      <td>985.4953862978231</td>\n",
       "      <td>331.54721860229455</td>\n",
       "      <td>334.1050737794211</td>\n",
       "      <td>328.32140773972</td>\n",
       "      <td>325.7635525625934</td>\n",
       "    </tr>\n",
       "    <tr>\n",
       "      <th>3</th>\n",
       "      <td>OBJ00013_PS3_K3_NIA0078</td>\n",
       "      <td>5</td>\n",
       "      <td>small car</td>\n",
       "      <td>0.607917</td>\n",
       "      <td>935.9948592758786,141.9939151216178,940.820433...</td>\n",
       "      <td>935.9948592758786</td>\n",
       "      <td>940.820433867284</td>\n",
       "      <td>945.1506126791966</td>\n",
       "      <td>940.3250380877912</td>\n",
       "      <td>141.9939151216178</td>\n",
       "      <td>138.6361681558302</td>\n",
       "      <td>144.85926985584334</td>\n",
       "      <td>148.21701682163092</td>\n",
       "    </tr>\n",
       "    <tr>\n",
       "      <th>4</th>\n",
       "      <td>OBJ00013_PS3_K3_NIA0078</td>\n",
       "      <td>5</td>\n",
       "      <td>small car</td>\n",
       "      <td>3.717766</td>\n",
       "      <td>874.5034054854823,43.55368531817367,869.677894...</td>\n",
       "      <td>874.5034054854823</td>\n",
       "      <td>869.6778945965918</td>\n",
       "      <td>865.5600534784157</td>\n",
       "      <td>870.3855643673062</td>\n",
       "      <td>43.55368531817367</td>\n",
       "      <td>46.688879196422135</td>\n",
       "      <td>40.35093394450673</td>\n",
       "      <td>37.21574006625826</td>\n",
       "    </tr>\n",
       "  </tbody>\n",
       "</table>\n",
       "</div>"
      ],
      "text/plain": [
       "                  image_id type_id          type_name  object_angle  \\\n",
       "0  OBJ00013_PS3_K3_NIA0078       3  civilian aircraft      6.283185   \n",
       "1  OBJ00013_PS3_K3_NIA0078       5          small car      3.547254   \n",
       "2  OBJ00013_PS3_K3_NIA0078       5          small car      3.647914   \n",
       "3  OBJ00013_PS3_K3_NIA0078       5          small car      0.607917   \n",
       "4  OBJ00013_PS3_K3_NIA0078       5          small car      3.717766   \n",
       "\n",
       "                                     object_imcoords                 x1  \\\n",
       "0  469.1820926230315,473.2955533775398,561.654399...  469.1820926230315   \n",
       "1  993.6889260747658,339.4410959499382,988.810925...  993.6889260747658   \n",
       "2  988.7026551987746,331.54721860229455,984.09007...  988.7026551987746   \n",
       "3  935.9948592758786,141.9939151216178,940.820433...  935.9948592758786   \n",
       "4  874.5034054854823,43.55368531817367,869.677894...  874.5034054854823   \n",
       "\n",
       "                  x2                 x3                 x4  \\\n",
       "0  561.6543996724264  561.6543996724264  469.1820926230315   \n",
       "1  988.8109258625097  985.2668417005333  990.1448419127894   \n",
       "2  984.0900765284824   980.882807627531  985.4953862978231   \n",
       "3   940.820433867284  945.1506126791966  940.3250380877912   \n",
       "4  869.6778945965918  865.5600534784157  870.3855643673062   \n",
       "\n",
       "                   y1                  y2                  y3  \\\n",
       "0   473.2955533775398   473.2955533775399   563.5489576573916   \n",
       "1   339.4410959499382  341.53611374679735  333.28413454151706   \n",
       "2  331.54721860229455   334.1050737794211     328.32140773972   \n",
       "3   141.9939151216178   138.6361681558302  144.85926985584334   \n",
       "4   43.55368531817367  46.688879196422135   40.35093394450673   \n",
       "\n",
       "                   y4  \n",
       "0   563.5489576573916  \n",
       "1   331.1891167446579  \n",
       "2   325.7635525625934  \n",
       "3  148.21701682163092  \n",
       "4   37.21574006625826  "
      ]
     },
     "execution_count": 27,
     "metadata": {},
     "output_type": "execute_result"
    }
   ],
   "source": [
    "train.head()"
   ]
  },
  {
   "cell_type": "markdown",
   "metadata": {},
   "source": [
    "-좌표를 x1,x4 y1,y4로 각각 나누어서 새로운 column을 생성"
   ]
  },
  {
   "cell_type": "code",
   "execution_count": 28,
   "metadata": {},
   "outputs": [],
   "source": [
    "imcoords_columns = []\n",
    "imcoords_columns = train.columns[-8:-1]"
   ]
  },
  {
   "cell_type": "code",
   "execution_count": 29,
   "metadata": {},
   "outputs": [],
   "source": [
    "type_id = train.type_id.drop_duplicates().sort_values().to_dict().values()\n",
    "type_colors = dict(zip(type_id, plt.cm.tab20.colors))"
   ]
  },
  {
   "cell_type": "code",
   "execution_count": 30,
   "metadata": {},
   "outputs": [
    {
     "data": {
      "text/plain": [
       "\"\\ndef show_n_mask(image_id, obj_type=None, gray_mode=True):\\n    fig= plt.figure(figsize=(18,18))\\n    # plot image\\n    img = cv2.imread('train/images/'+image_id+'.png', cv2.COLOR_BGR2RGB)\\n    if gray_mode:\\n        plt.imshow(cv2.cvtColor(img, cv2.COLOR_BGR2GRAY), cmap='gray')\\n    else:\\n        plt.imshow(img)\\n    \\n    # All object or selected objects(obj_type)\\n    for idx, row in train[train.image_id == image_id][['type_id','type_name']+imcoords_columns].iterrows():\\n        if (obj_type==row.type_name):\\n            coords = list(row[imcoords_columns].values) + list(row[imcoords_columns].values[:2])\\n            plt.fill(coords[::2],coords[1::2], facecolor=type_colors[row.type_id], edgecolor=type_colors[row.type_id], linewidth=2, alpha=0.5)\\n            # Label 'type_id' 1~16\\n            cx = row[imcoords_columns].values[::2].mean()\\n            cy = row[imcoords_columns].values[1::2].mean()\\n            plt.text(cx,cy, str(row.type_id), color='white', fontsize=12, fontweight='semibold')\\n        elif obj_type == None:\\n            coords = list(row[imcoords_columns].values) + list(row[imcoords_columns].values[:2])\\n            plt.fill(coords[::2],coords[1::2], facecolor=type_colors[row.type_id], edgecolor=type_colors[row.type_id], linewidth=2, alpha=0.5)\\n            # Label 'type_id' 1~16\\n            cx = row[imcoords_columns].values[::2].mean()\\n            cy = row[imcoords_columns].values[1::2].mean()\\n            plt.text(cx,cy, str(row.type_id), color='white', fontsize=12, fontweight='semibold')\\n\""
      ]
     },
     "execution_count": 30,
     "metadata": {},
     "output_type": "execute_result"
    }
   ],
   "source": [
    "'''\n",
    "def show_n_mask(image_id, obj_type=None, gray_mode=True):\n",
    "    fig= plt.figure(figsize=(18,18))\n",
    "    # plot image\n",
    "    img = cv2.imread('train/images/'+image_id+'.png', cv2.COLOR_BGR2RGB)\n",
    "    if gray_mode:\n",
    "        plt.imshow(cv2.cvtColor(img, cv2.COLOR_BGR2GRAY), cmap='gray')\n",
    "    else:\n",
    "        plt.imshow(img)\n",
    "    \n",
    "    # All object or selected objects(obj_type)\n",
    "    for idx, row in train[train.image_id == image_id][['type_id','type_name']+imcoords_columns].iterrows():\n",
    "        if (obj_type==row.type_name):\n",
    "            coords = list(row[imcoords_columns].values) + list(row[imcoords_columns].values[:2])\n",
    "            plt.fill(coords[::2],coords[1::2], facecolor=type_colors[row.type_id], edgecolor=type_colors[row.type_id], linewidth=2, alpha=0.5)\n",
    "            # Label 'type_id' 1~16\n",
    "            cx = row[imcoords_columns].values[::2].mean()\n",
    "            cy = row[imcoords_columns].values[1::2].mean()\n",
    "            plt.text(cx,cy, str(row.type_id), color='white', fontsize=12, fontweight='semibold')\n",
    "        elif obj_type == None:\n",
    "            coords = list(row[imcoords_columns].values) + list(row[imcoords_columns].values[:2])\n",
    "            plt.fill(coords[::2],coords[1::2], facecolor=type_colors[row.type_id], edgecolor=type_colors[row.type_id], linewidth=2, alpha=0.5)\n",
    "            # Label 'type_id' 1~16\n",
    "            cx = row[imcoords_columns].values[::2].mean()\n",
    "            cy = row[imcoords_columns].values[1::2].mean()\n",
    "            plt.text(cx,cy, str(row.type_id), color='white', fontsize=12, fontweight='semibold')\n",
    "'''"
   ]
  }
 ],
 "metadata": {
  "kernelspec": {
   "display_name": "Python 3",
   "language": "python",
   "name": "python3"
  },
  "language_info": {
   "codemirror_mode": {
    "name": "ipython",
    "version": 3
   },
   "file_extension": ".py",
   "mimetype": "text/x-python",
   "name": "python",
   "nbconvert_exporter": "python",
   "pygments_lexer": "ipython3",
   "version": "3.8.3"
  }
 },
 "nbformat": 4,
 "nbformat_minor": 4
}
